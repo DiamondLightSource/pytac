{
 "cells": [
  {
   "cell_type": "markdown",
   "metadata": {},
   "source": [
    "# Example 3: Print pv names"
   ]
  },
  {
   "cell_type": "code",
   "execution_count": 3,
   "metadata": {
    "collapsed": true
   },
   "outputs": [],
   "source": [
    "import sys, os\n",
    "sys.path.append(os.path.join(os.getcwd(), '..'))\n",
    "import pytac.load_csv, pytac.epics"
   ]
  },
  {
   "cell_type": "markdown",
   "metadata": {},
   "source": [
    "Initialize the VMX mode:"
   ]
  },
  {
   "cell_type": "code",
   "execution_count": 4,
   "metadata": {
    "collapsed": true
   },
   "outputs": [],
   "source": [
    "lattice = pytac.load_csv.load('VMX', pytac.epics.EpicsControlSystem())"
   ]
  },
  {
   "cell_type": "markdown",
   "metadata": {},
   "source": [
    "Version 1: Get the Quad elements individually:"
   ]
  },
  {
   "cell_type": "code",
   "execution_count": 5,
   "metadata": {
    "collapsed": true
   },
   "outputs": [],
   "source": [
    "q1b = lattice.get_elements('Q1B')"
   ]
  },
  {
   "cell_type": "markdown",
   "metadata": {},
   "source": [
    "Print the pvs to stdin:"
   ]
  },
  {
   "cell_type": "code",
   "execution_count": 8,
   "metadata": {},
   "outputs": [
    {
     "name": "stdout",
     "output_type": "stream",
     "text": [
      "SR01A-PC-Q1B-10\n",
      "SR03A-PC-Q1B-01\n",
      "SR03A-PC-Q1B-10\n",
      "SR04A-PC-Q1B-01\n",
      "SR05A-PC-Q1B-10\n",
      "SR06A-PC-Q1B-01\n",
      "SR06A-PC-Q1B-10\n",
      "SR07A-PC-Q1B-01\n",
      "SR07A-PC-Q1B-10\n",
      "SR08A-PC-Q1B-01\n",
      "SR09A-PC-Q1B-10\n",
      "SR10A-PC-Q1B-01\n",
      "SR10A-PC-Q1B-10\n",
      "SR11A-PC-Q1B-01\n",
      "SR11A-PC-Q1B-10\n",
      "SR12A-PC-Q1B-01\n",
      "SR13A-PC-Q1B-10\n",
      "SR14A-PC-Q1B-01\n",
      "SR14A-PC-Q1B-10\n",
      "SR15A-PC-Q1B-01\n",
      "SR15A-PC-Q1B-10\n",
      "SR16A-PC-Q1B-01\n",
      "SR17A-PC-Q1B-10\n",
      "SR18A-PC-Q1B-01\n",
      "SR18A-PC-Q1B-10\n",
      "SR19A-PC-Q1B-01\n",
      "SR19A-PC-Q1B-10\n",
      "SR20A-PC-Q1B-01\n",
      "SR21A-PC-Q1B-10\n",
      "SR22A-PC-Q1B-01\n",
      "SR22A-PC-Q1B-10\n",
      "SR23A-PC-Q1B-01\n",
      "SR23A-PC-Q1B-10\n",
      "SR24A-PC-Q1B-01\n"
     ]
    }
   ],
   "source": [
    "for quad in q1b:\n",
    "    pv_name = quad.get_pv_name('b1', 'readback').split(':')[0]\n",
    "    print(\"{}\".format(pv_name))"
   ]
  },
  {
   "cell_type": "markdown",
   "metadata": {},
   "source": [
    "Version 2: Get the Quad elements using the lattice:"
   ]
  },
  {
   "cell_type": "code",
   "execution_count": 10,
   "metadata": {},
   "outputs": [
    {
     "name": "stdout",
     "output_type": "stream",
     "text": [
      "['SR01A-PC-Q1B-10:I', 'SR03A-PC-Q1B-01:I', 'SR03A-PC-Q1B-10:I', 'SR04A-PC-Q1B-01:I', 'SR05A-PC-Q1B-10:I', 'SR06A-PC-Q1B-01:I', 'SR06A-PC-Q1B-10:I', 'SR07A-PC-Q1B-01:I', 'SR07A-PC-Q1B-10:I', 'SR08A-PC-Q1B-01:I', 'SR09A-PC-Q1B-10:I', 'SR10A-PC-Q1B-01:I', 'SR10A-PC-Q1B-10:I', 'SR11A-PC-Q1B-01:I', 'SR11A-PC-Q1B-10:I', 'SR12A-PC-Q1B-01:I', 'SR13A-PC-Q1B-10:I', 'SR14A-PC-Q1B-01:I', 'SR14A-PC-Q1B-10:I', 'SR15A-PC-Q1B-01:I', 'SR15A-PC-Q1B-10:I', 'SR16A-PC-Q1B-01:I', 'SR17A-PC-Q1B-10:I', 'SR18A-PC-Q1B-01:I', 'SR18A-PC-Q1B-10:I', 'SR19A-PC-Q1B-01:I', 'SR19A-PC-Q1B-10:I', 'SR20A-PC-Q1B-01:I', 'SR21A-PC-Q1B-10:I', 'SR22A-PC-Q1B-01:I', 'SR22A-PC-Q1B-10:I', 'SR23A-PC-Q1B-01:I', 'SR23A-PC-Q1B-10:I', 'SR24A-PC-Q1B-01:I']\n"
     ]
    }
   ],
   "source": [
    "print(lattice.get_family_pvs('Q1B', 'b1', 'readback'))"
   ]
  },
  {
   "cell_type": "code",
   "execution_count": null,
   "metadata": {
    "collapsed": true
   },
   "outputs": [],
   "source": []
  }
 ],
 "metadata": {
  "kernelspec": {
   "display_name": "Python 2",
   "language": "python",
   "name": "python2"
  },
  "language_info": {
   "codemirror_mode": {
    "name": "ipython",
    "version": 2
   },
   "file_extension": ".py",
   "mimetype": "text/x-python",
   "name": "python",
   "nbconvert_exporter": "python",
   "pygments_lexer": "ipython2",
   "version": "2.7.3"
  }
 },
 "nbformat": 4,
 "nbformat_minor": 2
}
