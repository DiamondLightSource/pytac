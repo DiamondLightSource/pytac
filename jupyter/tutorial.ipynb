{
 "cells": [
  {
   "cell_type": "markdown",
   "metadata": {},
   "source": [
    "In this tutorial we will go through some of the most common ways of using pytac. The aim is to give you an understanding of the interface and how to find out what is available.\n",
    "\n",
    "# Loading the lattice\n",
    "\n",
    "The central object in pytac is the `lattice`. It holds the information about all of the elements in the accelerator.\n",
    "\n",
    "All the data about the lattice and its elements is stored in CSV files inside the pytac repository. We use the `load_csv` module to load the data and initialise a `lattice` object; this is the normal starting point for using pytac.\n",
    "\n",
    "The \"ring mode\" describes one configuration of the elements in the lattice. There is one set of CSV files for each ring mode. So when we load the lattice, we specify the ring mode we want to load.\n",
    "\n",
    "At the time of writing the normal ring mode in use at Diamond is \"DIAD\", so let's load that.\n",
    "\n",
    "First some required imports."
   ]
  },
  {
   "cell_type": "code",
   "execution_count": 1,
   "metadata": {},
   "outputs": [],
   "source": [
    "import sys, os\n",
    "# Make the pytac package available from this subdirectory\n",
    "sys.path.append(os.path.join(os.getcwd(), '..'))\n",
    "import pytac"
   ]
  },
  {
   "cell_type": "markdown",
   "metadata": {},
   "source": [
    "Initialize the DIAD mode. The import of the Cothread channel access library will allow us to get some live values from the Diamond accelerators."
   ]
  },
  {
   "cell_type": "code",
   "execution_count": 2,
   "metadata": {},
   "outputs": [],
   "source": [
    "import cothread\n",
    "lattice = pytac.load_csv.load('DIAD')"
   ]
  },
  {
   "cell_type": "markdown",
   "metadata": {},
   "source": [
    "The lattice object itself has some fields with its own properties:"
   ]
  },
  {
   "cell_type": "code",
   "execution_count": 3,
   "metadata": {},
   "outputs": [
    {
     "data": {
      "text/plain": [
       "{'live': ['energy',\n",
       "  'tune_y',\n",
       "  'tune_x',\n",
       "  's_position',\n",
       "  'emittance_x',\n",
       "  'emittance_y',\n",
       "  'beam_current']}"
      ]
     },
     "execution_count": 3,
     "metadata": {},
     "output_type": "execute_result"
    }
   ],
   "source": [
    "lattice.get_fields()"
   ]
  },
  {
   "cell_type": "markdown",
   "metadata": {},
   "source": [
    "The name \"live\" is referring to the data source - Pytac can also be set up with additional data sources for simulation, but that isn't described here.\n",
    "\n",
    "We can ask for the values of these fields. These commands will try to get the real values from the live machine (so won't work if you're not on a suitable Diamond network)."
   ]
  },
  {
   "cell_type": "code",
   "execution_count": 4,
   "metadata": {},
   "outputs": [
    {
     "data": {
      "text/plain": [
       "3000000000.0"
      ]
     },
     "execution_count": 4,
     "metadata": {},
     "output_type": "execute_result"
    }
   ],
   "source": [
    "lattice.get_value(\"energy\")"
   ]
  },
  {
   "cell_type": "code",
   "execution_count": 5,
   "metadata": {},
   "outputs": [
    {
     "data": {
      "text/plain": [
       "299.7365049345119"
      ]
     },
     "execution_count": 5,
     "metadata": {},
     "output_type": "execute_result"
    }
   ],
   "source": [
    "lattice.get_value(\"beam_current\")"
   ]
  },
  {
   "cell_type": "markdown",
   "metadata": {},
   "source": [
    "## Families and elements\n",
    "\n",
    "The elements in the lattice are grouped by families, and this is the most common way to choose some to access. We can list the available families:"
   ]
  },
  {
   "cell_type": "code",
   "execution_count": 6,
   "metadata": {},
   "outputs": [
    {
     "data": {
      "text/plain": [
       "{'AP',\n",
       " 'BB',\n",
       " 'BBVMXL',\n",
       " 'BBVMXS',\n",
       " 'BEND',\n",
       " 'BPM',\n",
       " 'BPM10',\n",
       " 'BUMP',\n",
       " 'BUMPSS',\n",
       " 'D054BA',\n",
       " 'D054BAL',\n",
       " 'D09_1',\n",
       " 'D09_10',\n",
       " 'D09_12',\n",
       " 'D09_13',\n",
       " 'D09_14',\n",
       " 'D09_2',\n",
       " 'D09_3',\n",
       " 'D09_5',\n",
       " 'D09_6',\n",
       " 'D09_7',\n",
       " 'D09_8',\n",
       " 'D09_9',\n",
       " 'D104BA0',\n",
       " 'D104BA0R',\n",
       " 'D104BA1',\n",
       " 'D104BAA',\n",
       " 'D104BAB',\n",
       " 'D104BAC',\n",
       " 'D104BAD',\n",
       " 'D104BAML',\n",
       " 'D104BAMR',\n",
       " 'D104BAR',\n",
       " 'D10_1',\n",
       " 'D10_2',\n",
       " 'D10_3',\n",
       " 'D10_4',\n",
       " 'D10_5',\n",
       " 'D10_6',\n",
       " 'D10_7',\n",
       " 'D10_8',\n",
       " 'D10_9',\n",
       " 'D13_1',\n",
       " 'D13_10',\n",
       " 'D13_12',\n",
       " 'D13_13',\n",
       " 'D13_14',\n",
       " 'D13_2',\n",
       " 'D13_3',\n",
       " 'D13_5',\n",
       " 'D13_6',\n",
       " 'D13_7',\n",
       " 'D13_8',\n",
       " 'D13_9',\n",
       " 'D154BAL',\n",
       " 'D154BAR',\n",
       " 'D1A',\n",
       " 'D1Aa',\n",
       " 'D1Ab',\n",
       " 'D1D2',\n",
       " 'D1M4BA',\n",
       " 'D1M4BAL1',\n",
       " 'D1M4BAL2',\n",
       " 'D1S4BA',\n",
       " 'D1X',\n",
       " 'D1Y',\n",
       " 'D1YAD1YA',\n",
       " 'D1YB',\n",
       " 'D20_1',\n",
       " 'D20_2',\n",
       " 'D2A',\n",
       " 'D2B',\n",
       " 'D2B4BA',\n",
       " 'D2XL',\n",
       " 'D2XR',\n",
       " 'D2YA',\n",
       " 'D2YB',\n",
       " 'D2YC',\n",
       " 'D3A',\n",
       " 'D3Aa',\n",
       " 'D3Ab',\n",
       " 'D3B',\n",
       " 'D3B4BA',\n",
       " 'D3B4BAR',\n",
       " 'D4A',\n",
       " 'D4Aa',\n",
       " 'D4Ab',\n",
       " 'D4B',\n",
       " 'D4B4BA0',\n",
       " 'D4Ba',\n",
       " 'D4Bb',\n",
       " 'D5B',\n",
       " 'D6B',\n",
       " 'D6B4BA0',\n",
       " 'D6Ba',\n",
       " 'D6Bb',\n",
       " 'DBPM',\n",
       " 'DHS4BA',\n",
       " 'DHS4BAL1',\n",
       " 'DHS4BAL2',\n",
       " 'DHS4BAR1',\n",
       " 'DHS4BAR2',\n",
       " 'DHS4BAR3',\n",
       " 'DI05',\n",
       " 'DK4BAS20',\n",
       " 'DK4BAS21',\n",
       " 'DK4BAS22',\n",
       " 'DK4BAS23',\n",
       " 'DLB4BAL',\n",
       " 'DLB4BAR',\n",
       " 'DLBM4BA0',\n",
       " 'DLBM4BA1',\n",
       " 'DLBM4BAL1',\n",
       " 'DLBM4BAL2',\n",
       " 'DMID4BAL1',\n",
       " 'DMID4BAL2',\n",
       " 'DMID4BAR1',\n",
       " 'DMID4BAR2',\n",
       " 'DRBM4BA2',\n",
       " 'DRBM4BAL1',\n",
       " 'DRBM4BAL2',\n",
       " 'DRBM4BAR1',\n",
       " 'DRBM4BAR2',\n",
       " 'DRIFT',\n",
       " 'DRIFT_DRIFT_S2A',\n",
       " 'DRIFT_S2A',\n",
       " 'DSEXT',\n",
       " 'Drift',\n",
       " 'HCHICA',\n",
       " 'HSTR',\n",
       " 'HTRIM',\n",
       " 'HU64',\n",
       " 'KD1',\n",
       " 'MPW12',\n",
       " 'MPW15',\n",
       " 'MPW45',\n",
       " 'PAD',\n",
       " 'Q1AB',\n",
       " 'Q1AD',\n",
       " 'Q1B',\n",
       " 'Q1BE',\n",
       " 'Q1D',\n",
       " 'Q2AB',\n",
       " 'Q2AD',\n",
       " 'Q2B',\n",
       " 'Q2BE',\n",
       " 'Q2D',\n",
       " 'Q3B',\n",
       " 'Q3D',\n",
       " 'Q3E',\n",
       " 'Q4E',\n",
       " 'QM09',\n",
       " 'QM13',\n",
       " 'QUAD',\n",
       " 'RF',\n",
       " 'S1A',\n",
       " 'S1B',\n",
       " 'S1BE',\n",
       " 'S1C',\n",
       " 'S1D',\n",
       " 'S2A',\n",
       " 'S2B',\n",
       " 'S2BE',\n",
       " 'S2C',\n",
       " 'S2D',\n",
       " 'S3E',\n",
       " 'S4E',\n",
       " 'SEXT',\n",
       " 'SPACER',\n",
       " 'SQUAD',\n",
       " 'TEMPDRIFT',\n",
       " 'U21',\n",
       " 'U23a',\n",
       " 'U23b',\n",
       " 'U27',\n",
       " 'VSTR',\n",
       " 'VTRIM',\n",
       " 'shim',\n",
       " 'source'}"
      ]
     },
     "execution_count": 6,
     "metadata": {},
     "output_type": "execute_result"
    }
   ],
   "source": [
    "lattice.get_all_families()"
   ]
  },
  {
   "cell_type": "markdown",
   "metadata": {},
   "source": [
    "Let's get all the beam position monitors (BPMs). We do this by using get_elements which takes an argument for family name - in this case we use the family name \"BPM\"."
   ]
  },
  {
   "cell_type": "code",
   "execution_count": 7,
   "metadata": {},
   "outputs": [
    {
     "name": "stdout",
     "output_type": "stream",
     "text": [
      "Got 173 BPMs\n"
     ]
    }
   ],
   "source": [
    "bpms = lattice.get_elements('BPM')\n",
    "print(\"Got {} BPMs\".format(len(bpms)))"
   ]
  },
  {
   "cell_type": "markdown",
   "metadata": {},
   "source": [
    "Let's look at what we can find out about a single BPM.\n",
    "\n",
    "Each one has some fields:"
   ]
  },
  {
   "cell_type": "code",
   "execution_count": 8,
   "metadata": {},
   "outputs": [
    {
     "data": {
      "text/plain": [
       "{'live': ['y_sofb_disabled',\n",
       "  'enabled',\n",
       "  'y',\n",
       "  'x',\n",
       "  'x_fofb_disabled',\n",
       "  'x_sofb_disabled',\n",
       "  'y_fofb_disabled']}"
      ]
     },
     "execution_count": 8,
     "metadata": {},
     "output_type": "execute_result"
    }
   ],
   "source": [
    "one_bpm = bpms[0]\n",
    "one_bpm.get_fields()"
   ]
  },
  {
   "cell_type": "markdown",
   "metadata": {},
   "source": [
    "The fields represent a property of the BPM that can change. For example, x and y are the measured positions."
   ]
  },
  {
   "cell_type": "code",
   "execution_count": 9,
   "metadata": {},
   "outputs": [
    {
     "data": {
      "text/plain": [
       "-2.8e-05"
      ]
     },
     "execution_count": 9,
     "metadata": {},
     "output_type": "execute_result"
    }
   ],
   "source": [
    "one_bpm.get_value(\"x\")"
   ]
  },
  {
   "cell_type": "markdown",
   "metadata": {},
   "source": []
  },
  {
   "cell_type": "markdown",
   "metadata": {},
   "source": [
    "## Devices\n",
    "\n",
    "Each field has a `device` object associated with it, which knows how to set and get the value."
   ]
  },
  {
   "cell_type": "code",
   "execution_count": 10,
   "metadata": {},
   "outputs": [
    {
     "data": {
      "text/plain": [
       "<pytac.device.EpicsDevice at 0x7fb1bc741150>"
      ]
     },
     "execution_count": 10,
     "metadata": {},
     "output_type": "execute_result"
    }
   ],
   "source": [
    "one_bpm.get_device(\"x\")"
   ]
  },
  {
   "cell_type": "markdown",
   "metadata": {},
   "source": [
    "The `device` object knows the PV names for reading and writing the value of the field. Each field might have a \"setpoint\" or \"readback\" handle, which could be associated with different PV names.\n",
    "\n",
    "You can use either strings or pytac constants to specify which handle to use. "
   ]
  },
  {
   "cell_type": "code",
   "execution_count": 11,
   "metadata": {
    "scrolled": true
   },
   "outputs": [
    {
     "name": "stdout",
     "output_type": "stream",
     "text": [
      "('SR01C-PC-HBPM-01:SLOW:DISABLED', 'SR01C-PC-HBPM-01:SLOW:DISABLED')\n"
     ]
    }
   ],
   "source": [
    "readback_pv = one_bpm.get_pv_name(\"x_sofb_disabled\", \"readback\")\n",
    "same_readback_pv = one_bpm.get_pv_name(\"x_sofb_disabled\", pytac.RB)\n",
    "print(readback_pv, same_readback_pv)"
   ]
  },
  {
   "cell_type": "markdown",
   "metadata": {},
   "source": [
    "Some fields are read-only, in which case there is no setpoint PV to get."
   ]
  },
  {
   "cell_type": "code",
   "execution_count": 12,
   "metadata": {},
   "outputs": [
    {
     "ename": "HandleException",
     "evalue": "Device SR01C-DI-EBPM-01 has no setpoint PV.",
     "output_type": "error",
     "traceback": [
      "\u001b[0;31m---------------------------------------------------------------------------\u001b[0m",
      "\u001b[0;31mHandleException\u001b[0m                           Traceback (most recent call last)",
      "\u001b[0;32m<ipython-input-12-a21260ff4af2>\u001b[0m in \u001b[0;36m<module>\u001b[0;34m()\u001b[0m\n\u001b[0;32m----> 1\u001b[0;31m \u001b[0mone_bpm\u001b[0m\u001b[0;34m.\u001b[0m\u001b[0mget_pv_name\u001b[0m\u001b[0;34m(\u001b[0m\u001b[0;34m\"x_sofb_disabled\"\u001b[0m\u001b[0;34m,\u001b[0m \u001b[0mpytac\u001b[0m\u001b[0;34m.\u001b[0m\u001b[0mSP\u001b[0m\u001b[0;34m)\u001b[0m\u001b[0;34m\u001b[0m\u001b[0m\n\u001b[0m",
      "\u001b[0;32m/scratch/atip/pytac/pytac/element.pyc\u001b[0m in \u001b[0;36mget_pv_name\u001b[0;34m(self, field, handle)\u001b[0m\n\u001b[1;32m    240\u001b[0m         \u001b[0;32mtry\u001b[0m\u001b[0;34m:\u001b[0m\u001b[0;34m\u001b[0m\u001b[0m\n\u001b[1;32m    241\u001b[0m             return (self._data_source_manager._data_sources[pytac.LIVE]\n\u001b[0;32m--> 242\u001b[0;31m                     .get_device(field).get_pv_name(handle))\n\u001b[0m\u001b[1;32m    243\u001b[0m         \u001b[0;32mexcept\u001b[0m \u001b[0mKeyError\u001b[0m\u001b[0;34m:\u001b[0m\u001b[0;34m\u001b[0m\u001b[0m\n\u001b[1;32m    244\u001b[0m             raise DataSourceException(\"No data source for field {0} on element\"\n",
      "\u001b[0;32m/scratch/atip/pytac/pytac/device.pyc\u001b[0m in \u001b[0;36mget_pv_name\u001b[0;34m(self, handle)\u001b[0m\n\u001b[1;32m    214\u001b[0m         \u001b[0;32melse\u001b[0m\u001b[0;34m:\u001b[0m\u001b[0;34m\u001b[0m\u001b[0m\n\u001b[1;32m    215\u001b[0m             raise HandleException(\"Device {0} has no {1} PV.\"\n\u001b[0;32m--> 216\u001b[0;31m                                   .format(self.name, handle))\n\u001b[0m\u001b[1;32m    217\u001b[0m \u001b[0;34m\u001b[0m\u001b[0m\n\u001b[1;32m    218\u001b[0m \u001b[0;34m\u001b[0m\u001b[0m\n",
      "\u001b[0;31mHandleException\u001b[0m: Device SR01C-DI-EBPM-01 has no setpoint PV."
     ]
    }
   ],
   "source": [
    "one_bpm.get_pv_name(\"x_sofb_disabled\", pytac.SP)"
   ]
  },
  {
   "cell_type": "markdown",
   "metadata": {},
   "source": [
    "It's not normally necessary to interact with the `device` directly; you can do most things through methods of the `element` or `lattice`. E.g. element.get_value() above and `lattice.get_element_pv_names`:"
   ]
  },
  {
   "cell_type": "code",
   "execution_count": null,
   "metadata": {},
   "outputs": [],
   "source": [
    "lattice.get_element_pv_names('BPM', 'y', 'readback')"
   ]
  },
  {
   "cell_type": "markdown",
   "metadata": {},
   "source": [
    "## Unit conversions\n",
    "\n",
    "Many fields can be represented in either engineering units or physics units. For example, for a magnet field, the physics unit would be the field strength and the engineering unit would be the current applied by the magnet power supply controller."
   ]
  },
  {
   "cell_type": "code",
   "execution_count": 27,
   "metadata": {},
   "outputs": [
    {
     "ename": "HandleException",
     "evalue": "Device SR02A-PC-DTRIM-04 has no engineering PV.",
     "output_type": "error",
     "traceback": [
      "\u001b[0;31m---------------------------------------------------------------------------\u001b[0m",
      "\u001b[0;31mHandleException\u001b[0m                           Traceback (most recent call last)",
      "\u001b[0;32m<ipython-input-27-ba286134895f>\u001b[0m in \u001b[0;36m<module>\u001b[0;34m()\u001b[0m\n\u001b[1;32m      2\u001b[0m \u001b[0mcorrector\u001b[0m \u001b[0;34m=\u001b[0m \u001b[0mlattice\u001b[0m\u001b[0;34m.\u001b[0m\u001b[0mget_elements\u001b[0m\u001b[0;34m(\u001b[0m\u001b[0;34m\"BEND\"\u001b[0m\u001b[0;34m)\u001b[0m\u001b[0;34m[\u001b[0m\u001b[0;36m5\u001b[0m\u001b[0;34m]\u001b[0m\u001b[0;34m\u001b[0m\u001b[0m\n\u001b[1;32m      3\u001b[0m \u001b[0mcorrector\u001b[0m\u001b[0;34m.\u001b[0m\u001b[0mget_fields\u001b[0m\u001b[0;34m(\u001b[0m\u001b[0;34m)\u001b[0m\u001b[0;34m\u001b[0m\u001b[0m\n\u001b[0;32m----> 4\u001b[0;31m \u001b[0mcorrector\u001b[0m\u001b[0;34m.\u001b[0m\u001b[0mget_value\u001b[0m\u001b[0;34m(\u001b[0m\u001b[0;34m\"db0\"\u001b[0m\u001b[0;34m,\u001b[0m \u001b[0mpytac\u001b[0m\u001b[0;34m.\u001b[0m\u001b[0mENG\u001b[0m\u001b[0;34m)\u001b[0m\u001b[0;34m\u001b[0m\u001b[0m\n\u001b[0m\u001b[1;32m      5\u001b[0m \u001b[0;34m\u001b[0m\u001b[0m\n",
      "\u001b[0;32m/scratch/atip/pytac/pytac/element.pyc\u001b[0m in \u001b[0;36mget_value\u001b[0;34m(self, field, handle, units, data_source, throw)\u001b[0m\n\u001b[1;32m    179\u001b[0m         \u001b[0;32mtry\u001b[0m\u001b[0;34m:\u001b[0m\u001b[0;34m\u001b[0m\u001b[0m\n\u001b[1;32m    180\u001b[0m             return self._data_source_manager.get_value(field, handle, units,\n\u001b[0;32m--> 181\u001b[0;31m                                                        data_source, throw)\n\u001b[0m\u001b[1;32m    182\u001b[0m         \u001b[0;32mexcept\u001b[0m \u001b[0mDataSourceException\u001b[0m\u001b[0;34m:\u001b[0m\u001b[0;34m\u001b[0m\u001b[0m\n\u001b[1;32m    183\u001b[0m             raise DataSourceException(\"No data source {0} on element {1}.\"\n",
      "\u001b[0;32m/scratch/atip/pytac/pytac/data_source.pyc\u001b[0m in \u001b[0;36mget_value\u001b[0;34m(self, field, handle, units, data_source, throw)\u001b[0m\n\u001b[1;32m    202\u001b[0m         \u001b[0;32mtry\u001b[0m\u001b[0;34m:\u001b[0m\u001b[0;34m\u001b[0m\u001b[0m\n\u001b[1;32m    203\u001b[0m             \u001b[0mdata_source\u001b[0m \u001b[0;34m=\u001b[0m \u001b[0mself\u001b[0m\u001b[0;34m.\u001b[0m\u001b[0m_data_sources\u001b[0m\u001b[0;34m[\u001b[0m\u001b[0mdata_source\u001b[0m\u001b[0;34m]\u001b[0m\u001b[0;34m\u001b[0m\u001b[0m\n\u001b[0;32m--> 204\u001b[0;31m             \u001b[0mvalue\u001b[0m \u001b[0;34m=\u001b[0m \u001b[0mdata_source\u001b[0m\u001b[0;34m.\u001b[0m\u001b[0mget_value\u001b[0m\u001b[0;34m(\u001b[0m\u001b[0mfield\u001b[0m\u001b[0;34m,\u001b[0m \u001b[0mhandle\u001b[0m\u001b[0;34m,\u001b[0m \u001b[0mthrow\u001b[0m\u001b[0;34m)\u001b[0m\u001b[0;34m\u001b[0m\u001b[0m\n\u001b[0m\u001b[1;32m    205\u001b[0m             return self._uc[field].convert(value, origin=data_source.units,\n\u001b[1;32m    206\u001b[0m                                            target=units)\n",
      "\u001b[0;32m/scratch/atip/pytac/pytac/data_source.pyc\u001b[0m in \u001b[0;36mget_value\u001b[0;34m(self, field, handle, throw)\u001b[0m\n\u001b[1;32m    326\u001b[0m         \"\"\"\n\u001b[1;32m    327\u001b[0m         \u001b[0;32mtry\u001b[0m\u001b[0;34m:\u001b[0m\u001b[0;34m\u001b[0m\u001b[0m\n\u001b[0;32m--> 328\u001b[0;31m             \u001b[0;32mreturn\u001b[0m \u001b[0mself\u001b[0m\u001b[0;34m.\u001b[0m\u001b[0m_devices\u001b[0m\u001b[0;34m[\u001b[0m\u001b[0mfield\u001b[0m\u001b[0;34m]\u001b[0m\u001b[0;34m.\u001b[0m\u001b[0mget_value\u001b[0m\u001b[0;34m(\u001b[0m\u001b[0mhandle\u001b[0m\u001b[0;34m,\u001b[0m \u001b[0mthrow\u001b[0m\u001b[0;34m)\u001b[0m\u001b[0;34m\u001b[0m\u001b[0m\n\u001b[0m\u001b[1;32m    329\u001b[0m         \u001b[0;32mexcept\u001b[0m \u001b[0mKeyError\u001b[0m\u001b[0;34m:\u001b[0m\u001b[0;34m\u001b[0m\u001b[0m\n\u001b[1;32m    330\u001b[0m             raise FieldException(\"No field {0} on data source {1}.\"\n",
      "\u001b[0;32m/scratch/atip/pytac/pytac/device.pyc\u001b[0m in \u001b[0;36mget_value\u001b[0;34m(self, handle, throw)\u001b[0m\n\u001b[1;32m    177\u001b[0m         \u001b[0;32melse\u001b[0m\u001b[0;34m:\u001b[0m\u001b[0;34m\u001b[0m\u001b[0m\n\u001b[1;32m    178\u001b[0m             raise HandleException(\"Device {0} has no {1} PV.\"\n\u001b[0;32m--> 179\u001b[0;31m                                   .format(self.name, handle))\n\u001b[0m\u001b[1;32m    180\u001b[0m \u001b[0;34m\u001b[0m\u001b[0m\n\u001b[1;32m    181\u001b[0m     \u001b[0;32mdef\u001b[0m \u001b[0mset_value\u001b[0m\u001b[0;34m(\u001b[0m\u001b[0mself\u001b[0m\u001b[0;34m,\u001b[0m \u001b[0mvalue\u001b[0m\u001b[0;34m,\u001b[0m \u001b[0mthrow\u001b[0m\u001b[0;34m=\u001b[0m\u001b[0mTrue\u001b[0m\u001b[0;34m)\u001b[0m\u001b[0;34m:\u001b[0m\u001b[0;34m\u001b[0m\u001b[0m\n",
      "\u001b[0;31mHandleException\u001b[0m: Device SR02A-PC-DTRIM-04 has no engineering PV."
     ]
    }
   ],
   "source": [
    "# Get a corrector magnet\n",
    "corrector = lattice.get_elements(\"BEND\")[5]\n",
    "corrector.get_fields()\n",
    "corrector.get_value(\"db0\", pytac.ENG)\n",
    "\n"
   ]
  },
  {
   "cell_type": "markdown",
   "metadata": {},
   "source": [
    "## Magnet fields\n",
    "\n",
    "This seems like a good time to talk about the names for the magnetic fields of magnets.\n",
    "\n",
    "In accelerator physics we refer to the different components of magnetic fields as $a_n$ for vertical fields and $b_n$ for horizontal fields, where n is:\n",
    "\n",
    "| n   | Field      |\n",
    "|-----|------------|\n",
    "| 0   | Dipole     |\n",
    "| 1   | Quadrupole |\n",
    "| 2   | Sextupole  |\n",
    "| ... | ...        |\n",
    "\n",
    "These names are used for the `field`s associated with magnet `element`s in pytac.\n",
    "\n",
    "For corrector magnets, although the corrector field acts like a dipole, it is given the name `x_kick` or `y_kick` so that it can be easily distinguished. An example of this is when several magnets are combined into the same `element`. The following example shows an element which combines a corrector, a skew quadrupole and a sextupole."
   ]
  },
  {
   "cell_type": "code",
   "execution_count": 32,
   "metadata": {
    "scrolled": true
   },
   "outputs": [
    {
     "name": "stdout",
     "output_type": "stream",
     "text": [
      "('Fields:', {'live': ['h_fofb_disabled', 'h_sofb_disabled', 'v_fofb_disabled', 'a1', 'x_kick', 'v_sofb_disabled', 'b2', 'y_kick']})\n",
      "('Families:', set(['S4E', 'SQUAD', 'SEXT', 'VSTR', 'HSTR']))\n"
     ]
    }
   ],
   "source": [
    "an_element = lattice.get_elements(\"HSTR\")[12]\n",
    "print(\"Fields:\", an_element.get_fields())\n",
    "print(\"Families:\", an_element.families)"
   ]
  },
  {
   "cell_type": "markdown",
   "metadata": {},
   "source": [
    "## Other methods of the `lattice`\n",
    "`lattice.get_element_values` lets you get all the live values for a field from a while family of elements. E.g. the currents for the horizontal corrector magnets. There is also an analogous command `lattice.set_element_values()`."
   ]
  },
  {
   "cell_type": "code",
   "execution_count": null,
   "metadata": {},
   "outputs": [],
   "source": [
    "lattice.get_element_values(\"HSTR\", \"x_kick\", \"readback\")"
   ]
  },
  {
   "cell_type": "markdown",
   "metadata": {},
   "source": [
    "`s` position is the position of an element in metres around the ring.\n",
    "\n",
    "There is a method to get the `s` positions of all elements in a family:"
   ]
  },
  {
   "cell_type": "code",
   "execution_count": 28,
   "metadata": {
    "scrolled": false
   },
   "outputs": [
    {
     "data": {
      "text/plain": [
       "[4.38,\n",
       " 8.806500000000002,\n",
       " 11.374000000000002,\n",
       " 12.559000000000005,\n",
       " 14.942500000000006,\n",
       " 18.005000000000003,\n",
       " 21.270000000000003,\n",
       " 26.93,\n",
       " 30.360759,\n",
       " 32.076129]"
      ]
     },
     "execution_count": 28,
     "metadata": {},
     "output_type": "execute_result"
    }
   ],
   "source": [
    "lattice.get_family_s(\"BPM\")[:10]"
   ]
  },
  {
   "cell_type": "code",
   "execution_count": null,
   "metadata": {},
   "outputs": [],
   "source": []
  }
 ],
 "metadata": {
  "kernelspec": {
   "display_name": "Python 2",
   "language": "python",
   "name": "python2"
  },
  "language_info": {
   "codemirror_mode": {
    "name": "ipython",
    "version": 2
   },
   "file_extension": ".py",
   "mimetype": "text/x-python",
   "name": "python",
   "nbconvert_exporter": "python",
   "pygments_lexer": "ipython2",
   "version": "2.7.13"
  }
 },
 "nbformat": 4,
 "nbformat_minor": 1
}
